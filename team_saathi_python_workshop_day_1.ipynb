{
  "nbformat": 4,
  "nbformat_minor": 0,
  "metadata": {
    "colab": {
      "name": "team-saathi-python-workshop-day-1.ipynb",
      "provenance": [],
      "collapsed_sections": []
    },
    "kernelspec": {
      "name": "python3",
      "display_name": "Python 3"
    },
    "language_info": {
      "name": "python"
    }
  },
  "cells": [
    {
      "cell_type": "markdown",
      "metadata": {
        "id": "UqYd5W06m8Zk"
      },
      "source": [
        "## Python Workshop: Day 1"
      ]
    },
    {
      "cell_type": "markdown",
      "metadata": {
        "id": "9I97cH0xVawV"
      },
      "source": [
        "### Literals and operations"
      ]
    },
    {
      "cell_type": "markdown",
      "metadata": {
        "id": "a2uhFXYDVxNS"
      },
      "source": [
        "Basic literals: string, integers, floating point numbers, boolean\n",
        "Basic operations: addition, subtraction, multiplcation, division, power, modulus"
      ]
    },
    {
      "cell_type": "code",
      "metadata": {
        "id": "3J3-0aFuWxtE"
      },
      "source": [
        "1+1"
      ],
      "execution_count": null,
      "outputs": []
    },
    {
      "cell_type": "code",
      "metadata": {
        "id": "npilrvfglLc4"
      },
      "source": [
        "3-2"
      ],
      "execution_count": null,
      "outputs": []
    },
    {
      "cell_type": "code",
      "metadata": {
        "id": "PLMzBW4Ukq-J"
      },
      "source": [
        "3*2.0"
      ],
      "execution_count": null,
      "outputs": []
    },
    {
      "cell_type": "code",
      "metadata": {
        "id": "JvlPHHhblRTX"
      },
      "source": [
        "3/2"
      ],
      "execution_count": null,
      "outputs": []
    },
    {
      "cell_type": "code",
      "metadata": {
        "id": "9hgK7aI3kv3A"
      },
      "source": [
        "3**3"
      ],
      "execution_count": null,
      "outputs": []
    },
    {
      "cell_type": "code",
      "metadata": {
        "id": "sluME25lk8L1"
      },
      "source": [
        "4**.5"
      ],
      "execution_count": null,
      "outputs": []
    },
    {
      "cell_type": "code",
      "metadata": {
        "id": "um5lggetk_K-"
      },
      "source": [
        "'test'+\"text\""
      ],
      "execution_count": null,
      "outputs": []
    },
    {
      "cell_type": "markdown",
      "metadata": {
        "id": "OA2CxvmKnJo5"
      },
      "source": [
        "### Variables"
      ]
    },
    {
      "cell_type": "code",
      "metadata": {
        "id": "PUE9HkKale0T"
      },
      "source": [
        "int_var = 4\n",
        "int_var"
      ],
      "execution_count": null,
      "outputs": []
    },
    {
      "cell_type": "code",
      "metadata": {
        "id": "NtVI48T3xfgb"
      },
      "source": [
        "type(int_var)"
      ],
      "execution_count": null,
      "outputs": []
    },
    {
      "cell_type": "code",
      "metadata": {
        "id": "vx-wup_MllOX"
      },
      "source": [
        "float_var = 1.0\n",
        "float_var"
      ],
      "execution_count": null,
      "outputs": []
    },
    {
      "cell_type": "code",
      "metadata": {
        "id": "lIqTxISTXl7P"
      },
      "source": [
        "type(float_var)"
      ],
      "execution_count": null,
      "outputs": []
    },
    {
      "cell_type": "code",
      "metadata": {
        "id": "QWUpYNcjltf5"
      },
      "source": [
        "string_var = \"test text\"\n",
        "string_var"
      ],
      "execution_count": null,
      "outputs": []
    },
    {
      "cell_type": "code",
      "metadata": {
        "id": "nhPaiYJNXz-X"
      },
      "source": [
        "type(string_var)"
      ],
      "execution_count": null,
      "outputs": []
    },
    {
      "cell_type": "code",
      "metadata": {
        "id": "Y1M2eVMvrCbl"
      },
      "source": [
        "boolean_var = True\n",
        "boolean_var"
      ],
      "execution_count": null,
      "outputs": []
    },
    {
      "cell_type": "code",
      "metadata": {
        "id": "zBl_ikK8X5wX"
      },
      "source": [
        "type(boolean_var)"
      ],
      "execution_count": null,
      "outputs": []
    },
    {
      "cell_type": "code",
      "metadata": {
        "id": "dr5zsuZoozbd"
      },
      "source": [
        "int_var + float_var"
      ],
      "execution_count": null,
      "outputs": []
    },
    {
      "cell_type": "code",
      "metadata": {
        "id": "vprrVoDOo5Am"
      },
      "source": [
        "# string_var + int_var\n",
        "string_var + str(int_var) # type casting"
      ],
      "execution_count": null,
      "outputs": []
    },
    {
      "cell_type": "code",
      "metadata": {
        "id": "BEVlB1hOwEbz"
      },
      "source": [
        "# string_var + f\"{int_var}\" # string formatting\n",
        "f\"{string_var} {int_var}\""
      ],
      "execution_count": null,
      "outputs": []
    },
    {
      "cell_type": "markdown",
      "metadata": {
        "id": "80n3J_sxnPzh"
      },
      "source": [
        "### Interactive Python"
      ]
    },
    {
      "cell_type": "code",
      "metadata": {
        "id": "6iFm4cyzmFnY"
      },
      "source": [
        "user = input(\"Enter your name: \")\n",
        "print(\"Hello \" + user)"
      ],
      "execution_count": null,
      "outputs": []
    },
    {
      "cell_type": "markdown",
      "metadata": {
        "id": "6z7-ekG3oRF4"
      },
      "source": [
        "### Data types"
      ]
    },
    {
      "cell_type": "code",
      "metadata": {
        "id": "zY-cQsy_owAQ"
      },
      "source": [
        "list_var = [1, 2, 3]\n",
        "type(list_var)"
      ],
      "execution_count": null,
      "outputs": []
    },
    {
      "cell_type": "code",
      "metadata": {
        "id": "oySQKMNbpt2p"
      },
      "source": [
        "set_var = {1, 2, 3}\n",
        "type(set_var)\n",
        "\n",
        "set_var.add(4)\n",
        "print(set_var)"
      ],
      "execution_count": null,
      "outputs": []
    },
    {
      "cell_type": "code",
      "metadata": {
        "id": "4LNYaU0HzEsz"
      },
      "source": [
        "list_var = [1, 2, 2, 3, 3]\n",
        "set_var = set(list_var)\n",
        "list_var = list(set_var)\n",
        "\n",
        "print(list_var)"
      ],
      "execution_count": null,
      "outputs": []
    },
    {
      "cell_type": "code",
      "metadata": {
        "id": "F9z_QP80WMVO"
      },
      "source": [
        "list_var = [1, 2, 3, 4, 5]\n",
        "list_var.append(6)\n",
        "list_var"
      ],
      "execution_count": null,
      "outputs": []
    },
    {
      "cell_type": "code",
      "metadata": {
        "id": "jRbx_UAWmRLC"
      },
      "source": [
        "list_var[1]"
      ],
      "execution_count": null,
      "outputs": []
    },
    {
      "cell_type": "code",
      "metadata": {
        "id": "2ZpUAtD6mTaY"
      },
      "source": [
        "list_var[-1]"
      ],
      "execution_count": null,
      "outputs": []
    },
    {
      "cell_type": "code",
      "metadata": {
        "id": "oDxIMPOxl8jY"
      },
      "source": [
        "list_var[1:]"
      ],
      "execution_count": null,
      "outputs": []
    },
    {
      "cell_type": "code",
      "metadata": {
        "id": "w3BbOc5ymDMC"
      },
      "source": [
        "list_var[:1]"
      ],
      "execution_count": null,
      "outputs": []
    },
    {
      "cell_type": "code",
      "metadata": {
        "id": "sSzaedCZmIm_"
      },
      "source": [
        "list_var[2:3]"
      ],
      "execution_count": null,
      "outputs": []
    },
    {
      "cell_type": "code",
      "metadata": {
        "id": "64jXRF2hmrzd"
      },
      "source": [
        "list_var[2:2]"
      ],
      "execution_count": null,
      "outputs": []
    },
    {
      "cell_type": "code",
      "metadata": {
        "id": "y7iFT7iomz9x"
      },
      "source": [
        "list_var[2:2] = [\"text\", \"in\", \"between\"]\n",
        "list_var"
      ],
      "execution_count": null,
      "outputs": []
    },
    {
      "cell_type": "code",
      "metadata": {
        "id": "J1EmQS-Np7Jn"
      },
      "source": [
        "dict_var = {\"a\":1, \"b\":2}\n",
        "type(dict_var)"
      ],
      "execution_count": null,
      "outputs": []
    },
    {
      "cell_type": "code",
      "metadata": {
        "id": "kxbVmpkYoGmH"
      },
      "source": [
        "dict_var[\"c\"] = 3\n",
        "dict_var"
      ],
      "execution_count": null,
      "outputs": []
    },
    {
      "cell_type": "code",
      "metadata": {
        "id": "Z-qXbdeJo3ZP"
      },
      "source": [
        "dict_var.get(\"c\")"
      ],
      "execution_count": null,
      "outputs": []
    },
    {
      "cell_type": "code",
      "metadata": {
        "id": "7bjFrTtKqd-D"
      },
      "source": [
        "x= {1: 1, 1:2}\n",
        "x"
      ],
      "execution_count": null,
      "outputs": []
    },
    {
      "cell_type": "code",
      "metadata": {
        "id": "P1HRnQVZqhOw"
      },
      "source": [
        "x= {1: 1, \"1\": 2}\n",
        "x"
      ],
      "execution_count": null,
      "outputs": []
    },
    {
      "cell_type": "code",
      "metadata": {
        "id": "TBfXX5CsquJd"
      },
      "source": [
        "# x= {unknown_var: 5}\n",
        "# x = {[1,2,3]: 5, [4,5,6]: 7}"
      ],
      "execution_count": null,
      "outputs": []
    },
    {
      "cell_type": "code",
      "metadata": {
        "id": "s4FIygNAnIfs"
      },
      "source": [
        "tuple_var = (2,3)\n",
        "type(tuple_var)"
      ],
      "execution_count": null,
      "outputs": []
    },
    {
      "cell_type": "code",
      "metadata": {
        "id": "EsNEwNgApYAt"
      },
      "source": [
        "tuple2 = tuple_var + (4,)\n",
        "tuple2"
      ],
      "execution_count": null,
      "outputs": []
    },
    {
      "cell_type": "code",
      "metadata": {
        "id": "dl3nyAzcpiXi"
      },
      "source": [
        "tuple2[1]"
      ],
      "execution_count": null,
      "outputs": []
    },
    {
      "cell_type": "code",
      "metadata": {
        "id": "OwY0nroBprbl"
      },
      "source": [
        "# tuple2[1] = 5"
      ],
      "execution_count": null,
      "outputs": []
    },
    {
      "cell_type": "code",
      "metadata": {
        "id": "ENrfp9Fxp2_R"
      },
      "source": [
        "x, y, z = tuple2\n",
        "print(f\"x={x}\")\n",
        "print(f\"y={y}\")\n",
        "print(f\"z={z}\")"
      ],
      "execution_count": null,
      "outputs": []
    },
    {
      "cell_type": "code",
      "metadata": {
        "id": "jSCzEpO3qSqP"
      },
      "source": [
        "x= {1: 1, 1:2}\n",
        "x"
      ],
      "execution_count": null,
      "outputs": []
    },
    {
      "cell_type": "code",
      "metadata": {
        "id": "Ksry7POyrP2W"
      },
      "source": [
        "# access find_me string\n",
        "search = [10, 2, 7, {'x': 4, 'y':'potato', 'z':([2,2],{1.01: 'not_me', 1.02: 'find_me', 1.03: 'not_me_either'}, 2)}, 3, 6]\n",
        "search"
      ],
      "execution_count": null,
      "outputs": []
    },
    {
      "cell_type": "markdown",
      "metadata": {
        "id": "B-F1YoH0ZQEB"
      },
      "source": [
        "**Quiz time !!!**"
      ]
    },
    {
      "cell_type": "markdown",
      "metadata": {
        "id": "B5pOacXiqwDb"
      },
      "source": [
        "### Comparison and Logical operators"
      ]
    },
    {
      "cell_type": "markdown",
      "metadata": {
        "id": "IEjQTjcfZjQU"
      },
      "source": [
        "assignment operators: +=,-=,*=, /= ...\n",
        "comparision operators: >,<,==,<=,>=\n",
        "logical operators: and, or, not"
      ]
    },
    {
      "cell_type": "code",
      "metadata": {
        "id": "OABcl6tT0Nab"
      },
      "source": [
        "int_var = 5\n",
        "\n",
        "int_var += 2\n",
        "\n",
        "int_var"
      ],
      "execution_count": null,
      "outputs": []
    },
    {
      "cell_type": "code",
      "metadata": {
        "id": "MzqMDQki0g4A"
      },
      "source": [
        "int_var -= 2"
      ],
      "execution_count": null,
      "outputs": []
    },
    {
      "cell_type": "code",
      "metadata": {
        "id": "CK-ZUgpkqvev"
      },
      "source": [
        "int_var == 5"
      ],
      "execution_count": null,
      "outputs": []
    },
    {
      "cell_type": "code",
      "metadata": {
        "id": "hrGtKWxqp_ck"
      },
      "source": [
        "int_var > 5"
      ],
      "execution_count": null,
      "outputs": []
    },
    {
      "cell_type": "code",
      "metadata": {
        "id": "9WG7AZchq5le"
      },
      "source": [
        "int_var <= 5"
      ],
      "execution_count": null,
      "outputs": []
    },
    {
      "cell_type": "code",
      "metadata": {
        "id": "X4wexUyqq7-2"
      },
      "source": [
        "int_var < 5"
      ],
      "execution_count": null,
      "outputs": []
    },
    {
      "cell_type": "code",
      "metadata": {
        "id": "6RV-s775q97f"
      },
      "source": [
        "\"dog\" == \"cat\""
      ],
      "execution_count": null,
      "outputs": []
    },
    {
      "cell_type": "code",
      "metadata": {
        "id": "5WWFLCfasHZO"
      },
      "source": [
        "\"dog\" != \"cat\""
      ],
      "execution_count": null,
      "outputs": []
    },
    {
      "cell_type": "code",
      "metadata": {
        "id": "vGgWpt0prYG3"
      },
      "source": [
        "\"1\" == 1"
      ],
      "execution_count": null,
      "outputs": []
    },
    {
      "cell_type": "code",
      "metadata": {
        "id": "bUALGVcdrxFy"
      },
      "source": [
        "true_var = True\n",
        "false_var = False"
      ],
      "execution_count": null,
      "outputs": []
    },
    {
      "cell_type": "code",
      "metadata": {
        "id": "hJNtmauRw6hG"
      },
      "source": [
        "true_var or false_var"
      ],
      "execution_count": null,
      "outputs": []
    },
    {
      "cell_type": "code",
      "metadata": {
        "id": "Y-Po_BbGxAqh"
      },
      "source": [
        "true_var and false_var"
      ],
      "execution_count": null,
      "outputs": []
    },
    {
      "cell_type": "code",
      "metadata": {
        "id": "-UyBWR4ZbeLe"
      },
      "source": [
        "not true_var"
      ],
      "execution_count": null,
      "outputs": []
    },
    {
      "cell_type": "markdown",
      "metadata": {
        "id": "3PeIT3pdtB2n"
      },
      "source": [
        "###  Conditionals"
      ]
    },
    {
      "cell_type": "markdown",
      "metadata": {
        "id": "-xZ6rISGcU98"
      },
      "source": [
        "if [condition 1]: <br>\n",
        "  &nbsp; &nbsp; &nbsp; &nbsp; (block of code) <br>\n",
        "elif [condition 2]: <br>\n",
        "  &nbsp; &nbsp; &nbsp; &nbsp; (block of code) <br>\n",
        "else: <br>\n",
        "  &nbsp; &nbsp; &nbsp; &nbsp; (block of code)"
      ]
    },
    {
      "cell_type": "code",
      "metadata": {
        "id": "l3ciKhBBr8tN"
      },
      "source": [
        "int_var = 2\n",
        "if int_var < 5:\n",
        "  print(f\"{int_var} is smaller than 5\")"
      ],
      "execution_count": null,
      "outputs": []
    },
    {
      "cell_type": "code",
      "metadata": {
        "id": "htGR1rJOtUb3"
      },
      "source": [
        "string_var = \"saathi\"\n",
        "\n",
        "length_str = len(string_var)\n",
        "\n",
        "if length_str == 5:\n",
        "  print(f\"length of '{string_var}' equals 5\")\n",
        "elif length_str > 5:\n",
        "  print(f\"length of '{string_var}' greater than 5\")\n",
        "else:\n",
        "  print(f\"length of '{string_var}' less than 5\")"
      ],
      "execution_count": null,
      "outputs": []
    },
    {
      "cell_type": "code",
      "metadata": {
        "id": "nayzfS-rtb_R"
      },
      "source": [
        "string_var = \"test\" if len(string_var) > 5 else \"test text\"\n",
        "print(string_var)"
      ],
      "execution_count": null,
      "outputs": []
    },
    {
      "cell_type": "markdown",
      "metadata": {
        "id": "gGLBUrOn7LfM"
      },
      "source": [
        "### Loops"
      ]
    },
    {
      "cell_type": "code",
      "metadata": {
        "id": "DNNPO_GA1pSB"
      },
      "source": [
        "for i in range(1,5):\n",
        "  print(i)"
      ],
      "execution_count": null,
      "outputs": []
    },
    {
      "cell_type": "code",
      "metadata": {
        "id": "CJhpOajf7bjb"
      },
      "source": [
        "list_var = [\"apple\", \"orange\", \"banana\"]\n",
        "\n",
        "for val in list_var:\n",
        "  print(val)"
      ],
      "execution_count": null,
      "outputs": []
    },
    {
      "cell_type": "code",
      "metadata": {
        "id": "FKXiS-dN8coB"
      },
      "source": [
        "for val in list_var:\n",
        "  if val == \"orange\": break\n",
        "  print(val)"
      ],
      "execution_count": null,
      "outputs": []
    },
    {
      "cell_type": "code",
      "metadata": {
        "id": "EbK3kHO78m3t"
      },
      "source": [
        "for val in list_var:\n",
        "  if val == \"orange\": continue\n",
        "  print(val)"
      ],
      "execution_count": null,
      "outputs": []
    },
    {
      "cell_type": "code",
      "metadata": {
        "id": "IOUQQXgz89Fw"
      },
      "source": [
        "for index,val in enumerate(list_var):\n",
        "  print(f\"{index+1}. {val}\")"
      ],
      "execution_count": null,
      "outputs": []
    },
    {
      "cell_type": "code",
      "metadata": {
        "id": "lDSnYbtQ9eKB"
      },
      "source": [
        "for char in \"string\":\n",
        "  print(char)"
      ],
      "execution_count": null,
      "outputs": []
    },
    {
      "cell_type": "code",
      "metadata": {
        "id": "7l8P0Gm39km1"
      },
      "source": [
        "for i in range(0,5):\n",
        "  for j in range(i,5):\n",
        "    print(\"*\", end=\"\")\n",
        "  print()"
      ],
      "execution_count": null,
      "outputs": []
    },
    {
      "cell_type": "code",
      "metadata": {
        "id": "e0DHppwv-EwJ"
      },
      "source": [
        "i=0\n",
        "while i<len(list_var):\n",
        "  print(list_var[i])\n",
        "  i+=1\n"
      ],
      "execution_count": null,
      "outputs": []
    },
    {
      "cell_type": "markdown",
      "metadata": {
        "id": "Eq4JZMuD-8PJ"
      },
      "source": [
        "### Functions"
      ]
    },
    {
      "cell_type": "code",
      "metadata": {
        "id": "wioLl40y-sBY"
      },
      "source": [
        "def custom(x):\n",
        "  print(\"the value is \" + x)\n",
        "\n",
        "custom(\"test text\")\n",
        "help(custom)"
      ],
      "execution_count": null,
      "outputs": []
    },
    {
      "cell_type": "code",
      "metadata": {
        "id": "YUPLKLXw_PLR"
      },
      "source": [
        "def operate(x,y):\n",
        "  def add(i,j):\n",
        "    return i+j\n",
        "  def sub(a,b):\n",
        "    return a-b\n",
        "  return add(x,y), sub(x,y)\n",
        "# add(5,2)\n",
        "\n",
        "operate(3,1)"
      ],
      "execution_count": null,
      "outputs": []
    },
    {
      "cell_type": "code",
      "metadata": {
        "id": "22Jku1Ed_Pst"
      },
      "source": [
        "sum, diff = operate(5,2)\n",
        "print(f\"5+2={sum}\")\n",
        "print(f\"5-2={diff}\")"
      ],
      "execution_count": null,
      "outputs": []
    },
    {
      "cell_type": "code",
      "metadata": {
        "id": "cMYY-I5n_pV3"
      },
      "source": [
        "help(print)\n",
        "help(len)"
      ],
      "execution_count": null,
      "outputs": []
    },
    {
      "cell_type": "markdown",
      "metadata": {
        "id": "cz4uaLQHCM5z"
      },
      "source": [
        "### Exception handling"
      ]
    },
    {
      "cell_type": "code",
      "metadata": {
        "id": "9qW34xBoASo5"
      },
      "source": [
        "try:\n",
        "  print(\"trying division by 0\")\n",
        "  div_by_zero = 10/0\n",
        "  print(\"division by zero successful\")\n",
        "except Exception as e:\n",
        "  print(e)\n"
      ],
      "execution_count": null,
      "outputs": []
    },
    {
      "cell_type": "code",
      "metadata": {
        "id": "_tnRI_bXAcH3"
      },
      "source": [
        "try:\n",
        "  print(\"trying division by 0\")\n",
        "  div_by_zero = 10/0\n",
        "  print(\"division by zero successful\")\n",
        "except ZeroDivisionError as e:\n",
        "  print(e)"
      ],
      "execution_count": null,
      "outputs": []
    },
    {
      "cell_type": "markdown",
      "metadata": {
        "id": "wLkwHx-ZBHvD"
      },
      "source": [
        "### Packages in python\n"
      ]
    },
    {
      "cell_type": "markdown",
      "metadata": {
        "id": "BmmAsK0Nd-Fq"
      },
      "source": [
        ""
      ]
    },
    {
      "cell_type": "code",
      "metadata": {
        "id": "kaAd7Dm0BL3i"
      },
      "source": [
        "import numpy"
      ],
      "execution_count": null,
      "outputs": []
    },
    {
      "cell_type": "code",
      "metadata": {
        "id": "GFQbtejWhOEp"
      },
      "source": [
        "dir(numpy)"
      ],
      "execution_count": null,
      "outputs": []
    },
    {
      "cell_type": "code",
      "metadata": {
        "id": "7IxnnPEPhQIn"
      },
      "source": [
        "help(numpy.tanh)"
      ],
      "execution_count": null,
      "outputs": []
    },
    {
      "cell_type": "code",
      "metadata": {
        "id": "cizO2ZnzhnK4"
      },
      "source": [
        "import numpy as np"
      ],
      "execution_count": null,
      "outputs": []
    },
    {
      "cell_type": "code",
      "metadata": {
        "id": "5slupLI7huQp"
      },
      "source": [
        "help(np.tanh)"
      ],
      "execution_count": null,
      "outputs": []
    },
    {
      "cell_type": "code",
      "metadata": {
        "id": "n_RP2xNQhyH4"
      },
      "source": [
        "from numpy import tanh"
      ],
      "execution_count": null,
      "outputs": []
    },
    {
      "cell_type": "code",
      "metadata": {
        "id": "YvWJt4OZiB02"
      },
      "source": [
        "tanh([1,2])"
      ],
      "execution_count": null,
      "outputs": []
    },
    {
      "cell_type": "code",
      "metadata": {
        "id": "EGYSMdZ8l2R-"
      },
      "source": [
        ""
      ],
      "execution_count": null,
      "outputs": []
    },
    {
      "cell_type": "code",
      "metadata": {
        "id": "z5kstAEntAt7"
      },
      "source": [
        ""
      ],
      "execution_count": null,
      "outputs": []
    }
  ]
}