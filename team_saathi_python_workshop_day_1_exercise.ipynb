{
  "nbformat": 4,
  "nbformat_minor": 0,
  "metadata": {
    "colab": {
      "name": "team-saathi-python-workshop-day-1-exercise",
      "provenance": [],
      "collapsed_sections": []
    },
    "kernelspec": {
      "name": "python3",
      "display_name": "Python 3"
    },
    "language_info": {
      "name": "python"
    }
  },
  "cells": [
    {
      "cell_type": "markdown",
      "metadata": {
        "id": "DqIYJlCbX4qM"
      },
      "source": [
        "### Problem 1\n",
        "Write a Python method called fibonacci that takes an integer number N as argument and returns the Fibonacci sequence of length N.\n",
        "<br><br>\n",
        "**Note:** A Fibonacci sequence is a sequence of numbers where each number is the sum of the two previous ones. For example, the Fibonacci sequence of length 5 is: 0, 1, 1, 2, 3 (or 1, 1, 2, 3, 5)\n"
      ]
    },
    {
      "cell_type": "code",
      "metadata": {
        "id": "d_NjtqyiXuyR"
      },
      "source": [
        ""
      ],
      "execution_count": null,
      "outputs": []
    },
    {
      "cell_type": "markdown",
      "metadata": {
        "id": "jjSoWN3cYN3W"
      },
      "source": [
        "### Problem 2\n",
        "Create a function which takes a number of levels (N) and prints a pyramid that looks like this for N = 4:<br>\n",
        "&nbsp;&nbsp;&nbsp;&nbsp;&nbsp;&nbsp;&nbsp;&nbsp;&nbsp;**#**<br>\n",
        "&nbsp;&nbsp;&nbsp;&nbsp;&nbsp;&nbsp;**###**<br>\n",
        "&nbsp;&nbsp;&nbsp;**#####**<br>\n",
        "**#######**<br>\n"
      ]
    },
    {
      "cell_type": "code",
      "metadata": {
        "id": "svom81a-Yb-W"
      },
      "source": [
        ""
      ],
      "execution_count": null,
      "outputs": []
    },
    {
      "cell_type": "markdown",
      "metadata": {
        "id": "lu07agzZYeov"
      },
      "source": [
        "### Problem 3\n",
        "\n",
        "Your task is to program a small \"Guess the number\" game. A number between 1 and 100 should be randomly selected and the player should have 5 tries to guess that number correctly. Each time the player guesses, a hint should be given (higher/lower). **At the end, the correct guessed or not guessed number as well as the needed tries to get there should be printed out in the console**.\n",
        "\n",
        "**Note:** Handle error/exceptions from user input. For example, if a user enters a string instead of a number. The no. of tries should not decrease when such error occurs.\n",
        "\n",
        "**Hint**: use indefinite loop and exit the loop when required condition(s) is met\n",
        "\n",
        "Example Run: <br>\n",
        "<code>\n",
        "I'm thinking of a number between 1 and 100. <br>\n",
        "Try to guess it in as few attempts as possible.<br>\n",
        "<br>\n",
        "Enter your guess:5 <br>\n",
        "Wrong Guess. Hint: Go Higher!!! No of tries Left=4 <br>\n",
        "Enter your guess:10 <br>\n",
        "Wrong Guess. Hint: Go Higher!!! No of tries Left=3 <br>\n",
        "Enter your guess:50 <br>\n",
        "Wrong Guess. Hint: Go Higher!!! No of tries Left=2 <br>\n",
        "Enter your guess:70 <br>\n",
        "Wrong Guess. Hint: Go Lower!!! No of tries Left=1 <br>\n",
        "Enter your guess:6 <br>\n",
        "Wrong Guess. Hint: Go Higher!!! No of tries Left=0 <br>\n",
        "<br>\n",
        "Number I was thinking about is 60 <br>\n",
        "You did not guess my number correctly. <br>\n",
        "No of tries: 5 <br>\n",
        "</code>"
      ]
    },
    {
      "cell_type": "code",
      "metadata": {
        "id": "FYhubfvNYh3r"
      },
      "source": [
        ""
      ],
      "execution_count": null,
      "outputs": []
    },
    {
      "cell_type": "markdown",
      "metadata": {
        "id": "WoStwHjfYkZe"
      },
      "source": [
        "### Problem 4\n",
        "Write a Python function to count the frequency of all the values in a given list of dictionary. \n",
        "\n",
        "**Example:**<br>\n",
        "For a list of dictionaries:<br>\n",
        "[{0: 10, 1: 20, 2: 20}, {'a': 20, 'b': 30}, {1.0: 10, 2.0: 20}]<br>\n",
        "The function should return a dictionary with frequency count for values:<br>\n",
        "{10: 2, 20: 4, 30: 1}"
      ]
    },
    {
      "cell_type": "code",
      "metadata": {
        "id": "evqvDhC_YrXL"
      },
      "source": [
        ""
      ],
      "execution_count": null,
      "outputs": []
    }
  ]
}